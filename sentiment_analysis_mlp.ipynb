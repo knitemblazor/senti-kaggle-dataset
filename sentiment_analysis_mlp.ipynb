{
  "nbformat": 4,
  "nbformat_minor": 0,
  "metadata": {
    "colab": {
      "name": "kaggle love.ipynb",
      "version": "0.3.2",
      "provenance": [],
      "collapsed_sections": [],
     
    },
    "kernelspec": {
      "name": "python3",
      "display_name": "Python 3"
    }
  },
  "cells": [

    {
      "metadata": {
        "id": "tT4BtXWzj5KJ",
        "colab_type": "code",
        "outputId": "1ea3be68-1b35-44ad-c799-387c9246e896",
        "colab": {
          "base_uri": "https://localhost:8080/",
          "height": 141
        }
      },
      "cell_type": "code",
      "source": [
        "from tensorflow import keras\n",
        "from keras.models import Sequential\n",
        "from keras.layers import Dense, Dropout, Flatten\n",
        "from keras.layers import Conv2D, MaxPooling2D\n",
        "from keras import backend as K\n",
        "import numpy as np\n",
        "from gensim.models import Word2Vec\n",
        "import tensorflow as tf\n",
        "from google.colab import drive\n",
        "drive.mount('/content/gdrive')"
      ],
      "execution_count": 0,
      "outputs": [
        {
          "output_type": "stream",
          "text": [
            "Using TensorFlow backend.\n"
          ],
          "name": "stderr"
        },
        {
          "output_type": "stream",
          "text": [
            "Go to this URL in a browser: https://accounts.google.com/o/oauth2/auth?client_id=947318989803-6bn6qk8qdgf4n4g3pfee6491hc0brc4i.apps.googleusercontent.com&redirect_uri=urn%3Aietf%3Awg%3Aoauth%3A2.0%3Aoob&scope=email%20https%3A%2F%2Fwww.googleapis.com%2Fauth%2Fdocs.test%20https%3A%2F%2Fwww.googleapis.com%2Fauth%2Fdrive%20https%3A%2F%2Fwww.googleapis.com%2Fauth%2Fdrive.photos.readonly%20https%3A%2F%2Fwww.googleapis.com%2Fauth%2Fpeopleapi.readonly&response_type=code\n",
            "\n",
            "Enter your authorization code:\n",
            "··········\n",
            "Mounted at /content/gdrive\n"
          ],
          "name": "stdout"
        }
      ]
    },
    {
      "metadata": {
        "id": "FY4I_06siCmn",
        "colab_type": "code",
        "colab": {}
      },
      "cell_type": "code",
      "source": [
        "filename = '/content/gdrive/My Drive/latest/reviews.txt'\n",
        "file = open(filename,\"r\" )\n",
        "reviews = (file.read().splitlines())\n",
        "file.close() "
      ],
      "execution_count": 0,
      "outputs": []
    },
    {
      "metadata": {
        "id": "FN6Yi28NpBkO",
        "colab_type": "code",
        "outputId": "6d1091f8-1898-4a0e-af8a-828dd3135bf7",
        "colab": {
          "base_uri": "https://localhost:8080/",
          "height": 34
        }
      },
      "cell_type": "code",
      "source": [
        "print (len(reviews))"
      ],
      "execution_count": 0,
      "outputs": [
        {
          "output_type": "stream",
          "text": [
            "79999\n"
          ],
          "name": "stdout"
        }
      ]
    },
    {
      "metadata": {
        "id": "mSV0Wjs_DgD9",
        "colab_type": "code",
        "colab": {}
      },
      "cell_type": "code",
      "source": [
        "print(reviews)"
      ],
      "execution_count": 0,
      "outputs": []
    },
    {
      "metadata": {
        "id": "UDMWV7jKNz15",
        "colab_type": "text"
      },
      "cell_type": "markdown",
      "source": [
        "Removing stopwords and punctuations"
      ]
    },
    {
      "metadata": {
        "id": "TjI-ci6Zs6G6",
        "colab_type": "code",
        "colab": {}
      },
      "cell_type": "code",
      "source": [
        "import string\n",
        "a=[]\n",
        "for c in string.punctuation:\n",
        "    a.append(c)\n",
        "with open('/content/gdrive/My Drive/latest/reviews101.txt', 'w') as f:\n",
        "    for item in reviews:\n",
        "      words=(set(item.split()).difference(a))\n",
        "      wordsf=\" \".join(str(x.lower()) for x in list(words))\n",
        "      f.write(\"%s\\n\" % wordsf)\n",
        "file.close()"
      ],
      "execution_count": 0,
      "outputs": []
    },
    {
      "metadata": {
        "id": "4BSJM1mVQgCl",
        "colab_type": "text"
      },
      "cell_type": "markdown",
      "source": [
        "accessing processed files"
      ]
    },
    {
      "metadata": {
        "id": "Ee2FlbvfZF4U",
        "colab_type": "code",
        "colab": {}
      },
      "cell_type": "code",
      "source": [
        "filename = '/content/gdrive/My Drive/latest/klabel.txt'\n",
        "file = open(filename,\"r\" )\n",
        "label = ((file.read().splitlines()))\n",
        "file.close()\n",
        "killab=[]\n",
        "for i in range(len(label)):\n",
        "  label[i]=int(label[i])\n",
        "  if((label[i]<=2)):\n",
        "    killab.append(0)\n",
        "  else:\n",
        "    killab.append(1)\n",
        "with open('/content/gdrive/My Drive/latest/label101.txt', 'w') as f:\n",
        "    for item in killab:\n",
        "      f.write(\"%s\\n\" % item)\n",
        "      \n",
        "f.close()\n",
        "    \n",
        "\n",
        "    "
      ],
      "execution_count": 0,
      "outputs": []
    },
    {
      "metadata": {
        "id": "j62GcaeBIYd3",
        "colab_type": "code",
        "colab": {}
      },
      "cell_type": "code",
      "source": [
        "filename = '/content/gdrive/My Drive/latest/klabel.txt'\n",
        "file = open(filename,\"r\" )\n",
        "label = ((file.read().splitlines()))\n",
        "file.close()\n",
        "for i in range(len(label)):\n",
        "  label[i]=int(label[i])\n",
        "filename = '/content/gdrive/My Drive/latest/reviews101.txt'\n",
        "file = open(filename,\"r\" )\n",
        "sentences = (file.read().splitlines())\n",
        "file.close()\n"
      ],
      "execution_count": 0,
      "outputs": []
    },
    {
      "metadata": {
        "id": "sp2PnHL_R5HA",
        "colab_type": "code",
        "outputId": "97336a31-adad-4dc2-ef07-57f65ca1af5d",
        "colab": {
          "base_uri": "https://localhost:8080/",
          "height": 34
        }
      },
      "cell_type": "code",
      "source": [
        "print(len(sentences))"
      ],
      "execution_count": 0,
      "outputs": [
        {
          "output_type": "stream",
          "text": [
            "79999\n"
          ],
          "name": "stdout"
        }
      ]
    },
    {
      "metadata": {
        "id": "yYrcaDLMSPa0",
        "colab_type": "code",
        "outputId": "7aef28cf-959c-45ba-853b-df4496f00af7",
        "colab": {
          "base_uri": "https://localhost:8080/",
          "height": 34
        }
      },
      "cell_type": "code",
      "source": [
        "\n",
        "print((sentences[0]))"
      ],
      "execution_count": 0,
      "outputs": [
        {
          "output_type": "stream",
          "text": [
            "goose what is the of series that demonstrating a adage escapades good for\n"
          ],
          "name": "stdout"
        }
      ]
    },
    {
      "metadata": {
        "id": "wC5TNRH2XD3F",
        "colab_type": "code",
        "colab": {}
      },
      "cell_type": "code",
      "source": [
        "sense=[]\n",
        "for i in range(len(sentences)):\n",
        "    sense.append(0)\n",
        "for i in range(0,len(sentences)):\n",
        "    sense[i]=sentences[i].split()"
      ],
      "execution_count": 0,
      "outputs": []
    },
    {
      "metadata": {
        "id": "CrgeKZYbPbkW",
        "colab_type": "code",
        "outputId": "0523811d-e502-463b-c7fe-a83d46dd6ad6",
        "colab": {
          "base_uri": "https://localhost:8080/",
          "height": 34
        }
      },
      "cell_type": "code",
      "source": [
        "sentencesf=[]\n",
        "labelf=[]\n",
        "j=[]\n",
        "for i in range(len(sentences)):\n",
        "  j.append(len(sense[i]))\n",
        "\n",
        "\n",
        "for i in range(len(j)):\n",
        "  if(j[i]<=43):\n",
        "    sentencesf.append(sense[i])\n",
        "    labelf.append(label[i])\n",
        "print(len(sentencesf))"
      ],
      "execution_count": 0,
      "outputs": [
        {
          "output_type": "stream",
          "text": [
            "79999\n"
          ],
          "name": "stdout"
        }
      ]
    },
    {
      "metadata": {
        "id": "41bU_KO7LvFI",
        "colab_type": "code",
        "outputId": "48e0be4f-4d2d-4bff-e39b-375cfe16b46f",
        "colab": {
          "base_uri": "https://localhost:8080/",
          "height": 52
        }
      },
      "cell_type": "code",
      "source": [
        "model = Word2Vec(sentencesf,size=43, min_count=1)#word vector dim=28\n",
        "# summarize the loaded model\n",
        "print(model)\n",
        "# summarize vocabulary\n",
        "words = list(model.wv.vocab)\n",
        "print(len(words))"
      ],
      "execution_count": 0,
      "outputs": [
        {
          "output_type": "stream",
          "text": [
            "Word2Vec(vocab=11223, size=43, alpha=0.025)\n",
            "11223\n"
          ],
          "name": "stdout"
        }
      ]
    },
    {
      "metadata": {
        "id": "EQz0qG65RInN",
        "colab_type": "code",
        "outputId": "ea9f855d-8b97-467a-b425-e9fe0ae0cd82",
        "colab": {
          "base_uri": "https://localhost:8080/",
          "height": 72
        }
      },
      "cell_type": "code",
      "source": [
        "zerovector=[]\n",
        "for i in range(43):\n",
        "  zerovector.append(0)\n",
        "# print(label)\n",
        "def sentencevector(sent):\n",
        "  vector=[]\n",
        "  for word in sent:\n",
        "       vector.append(model[word])\n",
        "  if(len(sent)<43):\n",
        "    for i in range(len(sent),43):\n",
        "      vector.append(zerovector)\n",
        "  return(vector)\n",
        "Xtotal=[]\n",
        "Ytotal=labelf\n",
        "for i in range(len(sentencesf)):\n",
        "  a=np.array(sentencevector(sentencesf[i]))\n",
        "  Xtotal.append(a)"
      ],
      "execution_count": 0,
      "outputs": [
        {
          "output_type": "stream",
          "text": [
            "/usr/local/lib/python3.6/dist-packages/ipykernel_launcher.py:8: DeprecationWarning: Call to deprecated `__getitem__` (Method will be removed in 4.0.0, use self.wv.__getitem__() instead).\n",
            "  \n"
          ],
          "name": "stderr"
        }
      ]
    },
    {
      "metadata": {
        "id": "Cc4z3knBbGcG",
        "colab_type": "code",
        "outputId": "57ae3cc7-8dfd-4c09-e3cc-2019f44a173a",
        "colab": {
          "base_uri": "https://localhost:8080/",
          "height": 34
        }
      },
      "cell_type": "code",
      "source": [
        "len(Xtotal)  "
      ],
      "execution_count": 0,
      "outputs": [
        {
          "output_type": "execute_result",
          "data": {
            "text/plain": [
              "79999"
            ]
          },
          "metadata": {
            "tags": []
          },
          "execution_count": 43
        }
      ]
    },
    {
      "metadata": {
        "id": "OhMKZmJkbkMm",
        "colab_type": "code",
        "colab": {}
      },
      "cell_type": "code",
      "source": [
        "import random\n",
        "indices=[]\n",
        "for i in range(len(Xtotal)):\n",
        "  indices.append(i)\n",
        "print(len(indices))\n",
        "\n",
        "train = random.sample(indices,50000)\n",
        "print(train)\n",
        "test=list(set(indices).difference(train))\n",
        "print(test)\n",
        "\n"
      ],
      "execution_count": 0,
      "outputs": []
    },
    {
      "metadata": {
        "id": "fE27VzzUeGa0",
        "colab_type": "code",
        "colab": {}
      },
      "cell_type": "code",
      "source": [
        "Xtrain=[]\n",
        "Xtest=[]\n",
        "Ytrain=[]\n",
        "Ytest=[]\n",
        "for i in train:\n",
        "  Xtrain.append(Xtotal[i])\n",
        "  Ytrain.append(labelf[i])\n",
        "for i in test:\n",
        "  Xtest.append(Xtotal[i])\n",
        "  Ytest.append(labelf[i])\n",
        " \n",
        "Xtrain=np.array(Xtrain)\n",
        "Xtest=np.array(Xtest)\n",
        "Y_train=np.array(Ytrain)\n",
        "Y_test=np.array(Ytest)"
      ],
      "execution_count": 0,
      "outputs": []
    },
    {
      "metadata": {
        "id": "I7b3cLN5RSuk",
        "colab_type": "code",
        "colab": {}
      },
      "cell_type": "code",
      "source": [
        "X_train = Xtrain.reshape(Xtrain.shape[0], 43, 43 , 1).astype('float32')\n",
        "X_test=Xtest.reshape(Xtest.shape[0], 43, 43 , 1).astype('float32')"
      ],
      "execution_count": 0,
      "outputs": []
    },
    {
      "metadata": {
        "id": "w0vGFyufRC_2",
        "colab_type": "code",
        "outputId": "3b6a7750-e803-4963-c489-6fc83400aeb3",
        "colab": {
          "base_uri": "https://localhost:8080/",
          "height": 34
        }
      },
      "cell_type": "code",
      "source": [
        "print(len(X_train),len(Y_train))"
      ],
      "execution_count": 0,
      "outputs": [
        {
          "output_type": "stream",
          "text": [
            "50000 50000\n"
          ],
          "name": "stdout"
        }
      ]
    },
    {
      "metadata": {
        "id": "i0Sp9dgBTpUc",
        "colab_type": "code",
        "outputId": "f9a190c8-042f-4daf-b1d7-17960f3c7d3e",
        "colab": {
          "base_uri": "https://localhost:8080/",
          "height": 225
        }
      },
      "cell_type": "code",
      "source": [
        "model = tf.keras.models.Sequential([\n",
        "  tf.keras.layers.Flatten(),\n",
        "  tf.keras.layers.Dense(300, activation=tf.nn.relu),\n",
        "  tf.keras.layers.Dropout(0.3),\n",
        "  tf.keras.layers.Dense(100, activation=tf.nn.relu),\n",
        "  tf.keras.layers.Dropout(0.2),\n",
        "  tf.keras.layers.Dense(5, activation=tf.nn.softmax)\n",
        "])\n",
        "model.compile(optimizer='adam',\n",
        "              loss='sparse_categorical_crossentropy',\n",
        "              metrics=['accuracy'])\n",
        "\n",
        "model.fit(X_train, Y_train, epochs=5)\n",
        "model.evaluate(X_test, Y_test)\n"
      ],
      "execution_count": 0,
      "outputs": [
        {
          "output_type": "stream",
          "text": [
            "Epoch 1/5\n",
            "50000/50000 [==============================] - 14s 274us/step - loss: 1.2623 - acc: 0.5210\n",
            "Epoch 2/5\n",
            "50000/50000 [==============================] - 13s 261us/step - loss: 1.2411 - acc: 0.5224\n",
            "Epoch 3/5\n",
            "50000/50000 [==============================] - 13s 264us/step - loss: 1.2315 - acc: 0.5222\n",
            "Epoch 4/5\n",
            "50000/50000 [==============================] - 13s 262us/step - loss: 1.2205 - acc: 0.5232\n",
            "Epoch 5/5\n",
            "50000/50000 [==============================] - 13s 266us/step - loss: 1.2040 - acc: 0.5250\n",
            "29999/29999 [==============================] - 2s 61us/step\n"
          ],
          "name": "stdout"
        },
        {
          "output_type": "execute_result",
          "data": {
            "text/plain": [
              "[1.2600253189979838, 0.5167505583534352]"
            ]
          },
          "metadata": {
            "tags": []
          },
          "execution_count": 79
        }
      ]
    },
    {
      "metadata": {
        "id": "8taOZ198Isch",
        "colab_type": "code",
        "colab": {}
      },
      "cell_type": "code",
      "source": [
        "y_pred= model.predict_classes(X_test)\n",
        "print(y_pred[1000:2000])"
      ],
      "execution_count": 0,
      "outputs": []
    },
    {
      "metadata": {
        "id": "18Db4fcbGS5B",
        "colab_type": "code",
        "outputId": "a943b78a-47c2-4300-9950-50810c43c4a4",
        "colab": {
          "base_uri": "https://localhost:8080/",
          "height": 225
        }
      },
      "cell_type": "code",
      "source": [
        "from sklearn.metrics import classification_report\n",
        "print(classification_report(Y_test, y_pred))"
      ],
      "execution_count": 0,
      "outputs": [
        {
          "output_type": "stream",
          "text": [
            "              precision    recall  f1-score   support\n",
            "\n",
            "           0       0.11      0.00      0.01      1258\n",
            "           1       0.31      0.01      0.02      5068\n",
            "           2       0.52      0.98      0.68     15563\n",
            "           3       0.34      0.03      0.05      6310\n",
            "           4       0.16      0.01      0.02      1800\n",
            "\n",
            "   micro avg       0.52      0.52      0.52     29999\n",
            "   macro avg       0.29      0.21      0.16     29999\n",
            "weighted avg       0.41      0.52      0.37     29999\n",
            "\n"
          ],
          "name": "stdout"
        }
      ]
    }
  ]
}
